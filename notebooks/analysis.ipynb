{
 "cells": [
  {
   "cell_type": "markdown",
   "metadata": {},
   "source": [
    "# Longitudinal Analysis of ECAM dataset\n",
    "This notebooks contains a re-analysis of the [ECAM dataset](http://stm.sciencemag.org/content/8/343/343ra82) using the q2-longitudinal plugin.\n",
    "\n",
    "For more details, see the tutorials for this plugin at https://docs.qiime2.org/.\n",
    "\n",
    "These commands were used to generate all results shown in Bokulich et al. (in review).\n",
    "\n",
    "Commands run with version [qiime2-2018.8](https://docs.qiime2.org/2018.8/)."
   ]
  },
  {
   "cell_type": "code",
   "execution_count": 22,
   "metadata": {},
   "outputs": [],
   "source": [
    "import os\n",
    "import pandas as pd\n",
    "import biom\n",
    "import qiime2\n",
    "import matplotlib.pyplot as plt\n",
    "import seaborn as sns\n",
    "from qiime2.plugins import feature_table, longitudinal, diversity\n",
    "\n",
    "%matplotlib inline"
   ]
  },
  {
   "cell_type": "code",
   "execution_count": 2,
   "metadata": {},
   "outputs": [],
   "source": [
    "project_dir = os.path.expandvars('..')\n",
    "data_dir = os.path.join(project_dir, 'data')\n",
    "results_dir = os.path.join(project_dir, 'results')\n",
    "sample_md = qiime2.Metadata.load(os.path.join(data_dir, 'ecam-sample-metadata.tsv'))"
   ]
  },
  {
   "cell_type": "markdown",
   "metadata": {},
   "source": [
    "## Feature volatility\n",
    "\n",
    "Initial assessment of the ECAM data focused on Bacteroides, due to prior interest of association of this genus with delivery mode. We will use q2-longitudinal to identify other age-predictive taxa and assess their association with sample groups."
   ]
  },
  {
   "cell_type": "code",
   "execution_count": 7,
   "metadata": {},
   "outputs": [
    {
     "name": "stdout",
     "output_type": "stream",
     "text": [
      "Saved FeatureTable[RelativeFrequency] to: ../results/feat-volatility-genus/filtered_table.qza\n",
      "Saved FeatureData[Importance] to: ../results/feat-volatility-genus/feature_importance.qza\n",
      "Saved Visualization to: ../results/feat-volatility-genus/volatility_plot.qzv\n",
      "Saved Visualization to: ../results/feat-volatility-genus/accuracy_results.qzv\n",
      "Saved SampleEstimator[Regressor] to: ../results/feat-volatility-genus/sample_estimator.qza\n"
     ]
    }
   ],
   "source": [
    "%%bash\n",
    "qiime longitudinal feature-volatility \\\n",
    "  --i-table ../data/ecam-table-genus.qza \\\n",
    "  --m-metadata-file ../data/ecam-sample-metadata.tsv \\\n",
    "  --p-state-column month \\\n",
    "  --p-individual-id-column studyid \\\n",
    "  --p-n-jobs 4 \\\n",
    "  --p-n-estimators 100 \\\n",
    "  --output-dir ../results/feat-volatility-genus\n"
   ]
  },
  {
   "cell_type": "markdown",
   "metadata": {},
   "source": [
    "This identifies several taxa that are predictive of age that appear to have different trajectories based on diet and delivery mode. Let us examine differences in these trajectories using LME."
   ]
  },
  {
   "cell_type": "code",
   "execution_count": 32,
   "metadata": {},
   "outputs": [],
   "source": [
    "# load table\n",
    "table = qiime2.Artifact.load(os.path.join(data_dir, 'ecam-table-genus.qza'))\n",
    "# split into \"windows\" to examine piecewise trajectories\n",
    "# convert to relative abundances\n",
    "t06, = feature_table.actions.filter_samples(table=table, metadata=sample_md, where=\"month<=6\")\n",
    "t06 = feature_table.actions.relative_frequency(t06).relative_frequency_table\n",
    "t012, = feature_table.actions.filter_samples(table=table, metadata=sample_md, where=\"month<=12\")\n",
    "t012 = feature_table.actions.relative_frequency(t012).relative_frequency_table\n",
    "t612, = feature_table.actions.filter_samples(table=table, metadata=sample_md, where=\"month>=6 AND month<=12\")\n",
    "t612 = feature_table.actions.relative_frequency(t612).relative_frequency_table\n",
    "t618, = feature_table.actions.filter_samples(table=table, metadata=sample_md, where=\"month>=6 AND month<=18\")\n",
    "t618 = feature_table.actions.relative_frequency(t618).relative_frequency_table\n",
    "t212, = feature_table.actions.filter_samples(table=table, metadata=sample_md, where=\"month>=2 AND month<=12\")\n",
    "t212 = feature_table.actions.relative_frequency(t212).relative_frequency_table\n"
   ]
  },
  {
   "cell_type": "code",
   "execution_count": 38,
   "metadata": {},
   "outputs": [],
   "source": [
    "faecalibacterium = 'k__Bacteria;p__Firmicutes;c__Clostridia;o__Clostridiales;f__Ruminococcaceae;g__Faecalibacterium'\n",
    "coprococcus = 'k__Bacteria;p__Firmicutes;c__Clostridia;o__Clostridiales;f__Lachnospiraceae;g__Coprococcus'\n",
    "clostridium = 'k__Bacteria;p__Firmicutes;c__Clostridia;o__Clostridiales;f__Clostridiaceae;g__Clostridium'\n",
    "bifidobacterium = 'k__Bacteria;p__Actinobacteria;c__Actinobacteria;o__Bifidobacteriales;f__Bifidobacteriaceae;g__Bifidobacterium'\n",
    "\n",
    "stuff_to_test = [(faecalibacterium, t612, '612'),\n",
    "                 (coprococcus, t612, '612'),\n",
    "                 (clostridium, t012, '012'),\n",
    "                 (clostridium, t212, '212'),\n",
    "                 (bifidobacterium, t06, '06'),\n",
    "                 (bifidobacterium, t618, '618')]"
   ]
  },
  {
   "cell_type": "code",
   "execution_count": null,
   "metadata": {},
   "outputs": [],
   "source": [
    "for target, tab, time in stuff_to_test:\n",
    "    # extract the genus name for saving files\n",
    "    target_name = target.split('__')[-1]\n",
    "    # run LME\n",
    "    viz, = longitudinal.actions.linear_mixed_effects(\n",
    "        metadata=sample_md, metric=target, state_column='month', individual_id_column='studyid',\n",
    "        group_columns='delivery,diet,sex', random_effects='month', table=tab)\n",
    "    # save qzv\n",
    "    viz.save(os.path.join(results_dir, 'feat-volatility-genus', 'lme-' + target_name + '-' + time + '.qzv'))"
   ]
  },
  {
   "cell_type": "code",
   "execution_count": 3,
   "metadata": {},
   "outputs": [],
   "source": [
    "feature_md = qiime2.Metadata.load(\n",
    "    os.path.join(results_dir, 'feat-volatility-genus', 'ecam-genus-FV-feature_metadata.tsv')).to_dataframe()\n",
    "feature_md['importance'] = pd.to_numeric(feature_md['importance'])"
   ]
  },
  {
   "cell_type": "code",
   "execution_count": 105,
   "metadata": {},
   "outputs": [
    {
     "data": {
      "image/png": "[encoded data removed]",
      "text/plain": [
       "<Figure size 720x432 with 5 Axes>"
      ]
     },
     "metadata": {
      "needs_background": "light"
     },
     "output_type": "display_data"
    }
   ],
   "source": [
    "sns.set_color_codes(\"pastel\")\n",
    "f, axes = plt.subplots(1, 5, figsize=(10, 6))\n",
    "for i, m in enumerate(['importance', 'Global Mean',\n",
    "                       'Global Variance', 'Cumulative Avg Decrease',\n",
    "                       'Cumulative Avg Increase']):\n",
    "    g = sns.barplot(x=m, y=feature_md.index, data=feature_md, ax=axes[i], color='b')\n",
    "    g.set(yticklabels=[])\n",
    "    if i > 0:\n",
    "        g.set(ylabel='')\n",
    "    else:\n",
    "        g.set(ylabel='Feature ID')\n"
   ]
  },
  {
   "cell_type": "code",
   "execution_count": 7,
   "metadata": {},
   "outputs": [
    {
     "data": {
      "text/plain": [
       "0.7528156433016181"
      ]
     },
     "execution_count": 7,
     "metadata": {},
     "output_type": "execute_result"
    }
   ],
   "source": [
    "feature_md['importance'][:10].sum()"
   ]
  },
  {
   "cell_type": "markdown",
   "metadata": {},
   "source": [
    "## First distances"
   ]
  },
  {
   "cell_type": "code",
   "execution_count": 49,
   "metadata": {},
   "outputs": [
    {
     "name": "stdout",
     "output_type": "stream",
     "text": [
      "Saved SampleData[FirstDifferences] to: ../results/first-distances.qza\n",
      "Saved Visualization to: ../results/first-distances-LME.qzv\n",
      "Saved Visualization to: ../results/first-distances-volatility.qzv\n"
     ]
    }
   ],
   "source": [
    "%%bash\n",
    "qiime longitudinal first-distances \\\n",
    "  --i-distance-matrix ../data/unweighted_unifrac_distance_matrix.qza \\\n",
    "  --m-metadata-file ../data/ecam-sample-metadata.tsv \\\n",
    "  --p-state-column month \\\n",
    "  --o-first-distances ../results/first-distances.qza \\\n",
    "  --p-individual-id-column studyid \\\n",
    "  --p-replicate-handling random\n",
    "\n",
    "# LME\n",
    "qiime longitudinal linear-mixed-effects \\\n",
    "  --m-metadata-file ../results/first-distances.qza \\\n",
    "  --m-metadata-file ../data/ecam-sample-metadata.tsv \\\n",
    "  --p-metric Distance \\\n",
    "  --p-state-column month \\\n",
    "  --p-individual-id-column studyid \\\n",
    "  --o-visualization ../results/first-distances-LME.qzv \\\n",
    "  --p-group-columns delivery,diet,sex \\\n",
    "  --p-random-effects month\n",
    "\n",
    "# volatility\n",
    "qiime longitudinal volatility \\\n",
    "  --m-metadata-file ../data/ecam-sample-metadata.tsv \\\n",
    "  --m-metadata-file ../results/first-distances.qza \\\n",
    "  --p-default-metric Distance \\\n",
    "  --p-default-group-column delivery \\\n",
    "  --p-state-column month \\\n",
    "  --p-individual-id-column studyid \\\n",
    "  --o-visualization ../results/first-distances-volatility.qzv \n"
   ]
  },
  {
   "cell_type": "markdown",
   "metadata": {},
   "source": [
    "test LME on segmented time frames"
   ]
  },
  {
   "cell_type": "code",
   "execution_count": 62,
   "metadata": {},
   "outputs": [],
   "source": [
    "# load table\n",
    "dm = qiime2.Artifact.load(os.path.join(data_dir, 'unweighted_unifrac_distance_matrix.qza'))\n",
    "# split into \"windows\" to examine piecewise trajectories\n",
    "# convert to relative abundances\n",
    "d06, = diversity.actions.filter_distance_matrix(distance_matrix=dm, metadata=sample_md, where=\"month<=6\")\n",
    "d612, = diversity.actions.filter_distance_matrix(distance_matrix=dm, metadata=sample_md, where=\"month>=6 AND month<=12\")\n",
    "d618, = diversity.actions.filter_distance_matrix(distance_matrix=dm, metadata=sample_md, where=\"month>=6 AND month<=18\")\n",
    "d311, = diversity.actions.filter_distance_matrix(distance_matrix=dm, metadata=sample_md, where=\"month>=3 AND month<=11\")\n"
   ]
  },
  {
   "cell_type": "code",
   "execution_count": null,
   "metadata": {},
   "outputs": [],
   "source": [
    "for dm_sub, time in [(d06, 't06'), (d612, 't612'), (d311, 't311')]:\n",
    "    # run LME\n",
    "    fd, = longitudinal.actions.first_distances(\n",
    "        distance_matrix=dm_sub, metadata=sample_md, state_column='month',\n",
    "        individual_id_column='studyid', replicate_handling='random')\n",
    "    viz, = longitudinal.actions.linear_mixed_effects(\n",
    "        metadata=fd.view(qiime2.Metadata).merge(sample_md), metric='Distance', state_column='month',\n",
    "        individual_id_column='studyid', group_columns='delivery,diet,sex', random_effects='month')\n",
    "    # save qzv\n",
    "    viz.save(os.path.join(results_dir, 'first-distances-LME-' + time + '.qzv'))"
   ]
  },
  {
   "cell_type": "markdown",
   "metadata": {},
   "source": [
    "## Distance from baseline"
   ]
  },
  {
   "cell_type": "code",
   "execution_count": 51,
   "metadata": {},
   "outputs": [
    {
     "name": "stdout",
     "output_type": "stream",
     "text": [
      "Saved SampleData[FirstDifferences] to: ../results/baseline-distances.qza\n",
      "Saved Visualization to: ../results/baseline-distances-LME.qzv\n",
      "Saved Visualization to: ../results/baseline-distances-volatility.qzv\n"
     ]
    }
   ],
   "source": [
    "%%bash\n",
    "qiime longitudinal first-distances \\\n",
    "  --i-distance-matrix ../data/unweighted_unifrac_distance_matrix.qza \\\n",
    "  --m-metadata-file ../data/ecam-sample-metadata.tsv \\\n",
    "  --p-state-column month \\\n",
    "  --o-first-distances ../results/baseline-distances.qza \\\n",
    "  --p-individual-id-column studyid \\\n",
    "  --p-replicate-handling random \\\n",
    "  --p-baseline 0\n",
    "\n",
    "# LME\n",
    "qiime longitudinal linear-mixed-effects \\\n",
    "  --m-metadata-file ../results/baseline-distances.qza \\\n",
    "  --m-metadata-file ../data/ecam-sample-metadata.tsv \\\n",
    "  --p-metric Distance \\\n",
    "  --p-state-column month \\\n",
    "  --p-individual-id-column studyid \\\n",
    "  --o-visualization ../results/baseline-distances-LME.qzv \\\n",
    "  --p-group-columns delivery,diet,sex \\\n",
    "  --p-random-effects month\n",
    "\n",
    "# volatility\n",
    "qiime longitudinal volatility \\\n",
    "  --m-metadata-file ../data/ecam-sample-metadata.tsv \\\n",
    "  --m-metadata-file ../results/baseline-distances.qza \\\n",
    "  --p-default-metric Distance \\\n",
    "  --p-default-group-column delivery \\\n",
    "  --p-state-column month \\\n",
    "  --p-individual-id-column studyid \\\n",
    "  --o-visualization ../results/baseline-distances-volatility.qzv \n"
   ]
  },
  {
   "cell_type": "code",
   "execution_count": null,
   "metadata": {},
   "outputs": [],
   "source": [
    "for dm_sub, time in [(d06, 't06')]:\n",
    "    # run LME\n",
    "    fd, = longitudinal.actions.first_distances(\n",
    "        distance_matrix=dm_sub, metadata=sample_md, state_column='month',\n",
    "        individual_id_column='studyid', replicate_handling='random', baseline=0)\n",
    "    viz, = longitudinal.actions.linear_mixed_effects(\n",
    "        metadata=fd.view(qiime2.Metadata).merge(sample_md), metric='Distance', state_column='month',\n",
    "        individual_id_column='studyid', group_columns='delivery,diet,sex', random_effects='month')\n",
    "    # save qzv\n",
    "    viz.save(os.path.join(results_dir, 'baseline-distances-LME-' + time + '.qzv'))"
   ]
  },
  {
   "cell_type": "markdown",
   "metadata": {},
   "source": [
    "## First distances shared species"
   ]
  },
  {
   "cell_type": "code",
   "execution_count": 16,
   "metadata": {},
   "outputs": [
    {
     "name": "stdout",
     "output_type": "stream",
     "text": [
      "Saved FeatureTable[Frequency] to: ../data/ecam-table-genus-mf7000-ms130-e2000.qza\n",
      "Saved DistanceMatrix to: ../data/jaccard-distance-genera.qza\n"
     ]
    }
   ],
   "source": [
    "%%bash\n",
    "qiime feature-table rarefy \\\n",
    "   --i-table ../data/ecam-table-genus-mf7000-ms130.qza \\\n",
    "   --p-sampling-depth 2000 \\\n",
    "   --o-rarefied-table ../data/ecam-table-genus-mf7000-ms130-e2000.qza \\\n",
    "\n",
    "qiime diversity beta \\\n",
    "   --i-table ../data/ecam-table-genus-mf7000-ms130-e2000.qza \\\n",
    "   --p-metric 'jaccard' \\\n",
    "   --o-distance-matrix ../data/jaccard-distance-genera.qza"
   ]
  },
  {
   "cell_type": "code",
   "execution_count": 17,
   "metadata": {},
   "outputs": [
    {
     "name": "stdout",
     "output_type": "stream",
     "text": [
      "Saved SampleData[FirstDifferences] to: ../results/first-distances-shared-genera.qza\n",
      "Saved Visualization to: ../results/first-distances-shared-genera-LME.qzv\n",
      "Saved Visualization to: ../results/first-distances-shared-genera-volatility.qzv\n"
     ]
    }
   ],
   "source": [
    "%%bash\n",
    "qiime longitudinal first-distances \\\n",
    "  --i-distance-matrix ../data/jaccard-distance-genera.qza \\\n",
    "  --m-metadata-file ../data/ecam-sample-metadata.tsv \\\n",
    "  --p-state-column month \\\n",
    "  --o-first-distances ../results/first-distances-shared-genera.qza \\\n",
    "  --p-individual-id-column studyid \\\n",
    "  --p-replicate-handling random \\\n",
    "\n",
    "# LME\n",
    "qiime longitudinal linear-mixed-effects \\\n",
    "  --m-metadata-file ../results/first-distances-shared-genera.qza \\\n",
    "  --m-metadata-file ../data/ecam-sample-metadata.tsv \\\n",
    "  --p-metric Distance \\\n",
    "  --p-state-column month \\\n",
    "  --p-individual-id-column studyid \\\n",
    "  --o-visualization ../results/first-distances-shared-genera-LME.qzv \\\n",
    "  --p-group-columns delivery,diet,sex \\\n",
    "  --p-random-effects month\n",
    "\n",
    "# volatility\n",
    "qiime longitudinal volatility \\\n",
    "  --m-metadata-file ../data/ecam-sample-metadata.tsv \\\n",
    "  --m-metadata-file ../results/first-distances-shared-genera.qza \\\n",
    "  --p-default-metric Distance \\\n",
    "  --p-default-group-column delivery \\\n",
    "  --p-state-column month \\\n",
    "  --p-individual-id-column studyid \\\n",
    "  --o-visualization ../results/first-distances-shared-genera-volatility.qzv \n"
   ]
  },
  {
   "cell_type": "markdown",
   "metadata": {},
   "source": [
    "test LME on segmented time frames"
   ]
  },
  {
   "cell_type": "code",
   "execution_count": 60,
   "metadata": {},
   "outputs": [],
   "source": [
    "# load table\n",
    "dmj = qiime2.Artifact.load(os.path.join(data_dir, 'jaccard-distance-genera.qza'))\n",
    "# split into \"windows\" to examine piecewise trajectories\n",
    "# convert to relative abundances\n",
    "dj03, = diversity.actions.filter_distance_matrix(distance_matrix=dmj, metadata=sample_md, where=\"month<=3\")\n",
    "dj312, = diversity.actions.filter_distance_matrix(distance_matrix=dmj, metadata=sample_md, where=\"month>=3 AND month<=12\")\n",
    "dj612, = diversity.actions.filter_distance_matrix(distance_matrix=dmj, metadata=sample_md, where=\"month>=6 AND month<=12\")\n"
   ]
  },
  {
   "cell_type": "code",
   "execution_count": null,
   "metadata": {},
   "outputs": [],
   "source": [
    "for dm_sub, time in [(dj03, 't03'), (dj312, 't312'), (dj612, 't612')]:\n",
    "    # run LME\n",
    "    fd, = longitudinal.actions.first_distances(\n",
    "        distance_matrix=dm_sub, metadata=sample_md, state_column='month',\n",
    "        individual_id_column='studyid', replicate_handling='random')\n",
    "    viz, = longitudinal.actions.linear_mixed_effects(\n",
    "        metadata=fd.view(qiime2.Metadata).merge(sample_md), metric='Distance', state_column='month',\n",
    "        individual_id_column='studyid', group_columns='delivery,diet,sex', random_effects='month')\n",
    "    # save qzv\n",
    "    viz.save(os.path.join(results_dir, 'first-distances-shared-genera-LME-' + time + '.qzv'))"
   ]
  },
  {
   "cell_type": "markdown",
   "metadata": {},
   "source": [
    "## Shared species with baseline"
   ]
  },
  {
   "cell_type": "code",
   "execution_count": 18,
   "metadata": {},
   "outputs": [
    {
     "name": "stdout",
     "output_type": "stream",
     "text": [
      "Saved SampleData[FirstDifferences] to: ../results/baseline-distances-shared-genera.qza\n",
      "Saved Visualization to: ../results/baseline-distances-shared-genera-LME.qzv\n",
      "Saved Visualization to: ../results/baseline-distances-shared-genera-volatility.qzv\n"
     ]
    }
   ],
   "source": [
    "%%bash\n",
    "qiime longitudinal first-distances \\\n",
    "  --i-distance-matrix ../data/jaccard-distance-genera.qza \\\n",
    "  --m-metadata-file ../data/ecam-sample-metadata.tsv \\\n",
    "  --p-state-column month \\\n",
    "  --o-first-distances ../results/baseline-distances-shared-genera.qza \\\n",
    "  --p-individual-id-column studyid \\\n",
    "  --p-replicate-handling random \\\n",
    "  --p-baseline 0\n",
    "\n",
    "# LME\n",
    "qiime longitudinal linear-mixed-effects \\\n",
    "  --m-metadata-file ../results/baseline-distances-shared-genera.qza \\\n",
    "  --m-metadata-file ../data/ecam-sample-metadata.tsv \\\n",
    "  --p-metric Distance \\\n",
    "  --p-state-column month \\\n",
    "  --p-individual-id-column studyid \\\n",
    "  --o-visualization ../results/baseline-distances-shared-genera-LME.qzv \\\n",
    "  --p-group-columns delivery,diet,sex \\\n",
    "  --p-random-effects month\n",
    "\n",
    "# volatility\n",
    "qiime longitudinal volatility \\\n",
    "  --m-metadata-file ../data/ecam-sample-metadata.tsv \\\n",
    "  --m-metadata-file ../results/baseline-distances-shared-genera.qza \\\n",
    "  --p-default-metric Distance \\\n",
    "  --p-default-group-column delivery \\\n",
    "  --p-state-column month \\\n",
    "  --p-individual-id-column studyid \\\n",
    "  --o-visualization ../results/baseline-distances-shared-genera-volatility.qzv \n"
   ]
  },
  {
   "cell_type": "markdown",
   "metadata": {},
   "source": [
    "## Shared features with mother"
   ]
  },
  {
   "cell_type": "code",
   "execution_count": 19,
   "metadata": {},
   "outputs": [
    {
     "name": "stdout",
     "output_type": "stream",
     "text": [
      "Saved FeatureTable[Frequency] to: ../data/ecam-table-mothers-e2000.qza\n",
      "Saved DistanceMatrix to: ../data/jaccard-distance-mothers.qza\n"
     ]
    }
   ],
   "source": [
    "%%bash\n",
    "qiime feature-table rarefy \\\n",
    "   --i-table ../data/ecam-table-mothers.qza \\\n",
    "   --p-sampling-depth 2000 \\\n",
    "   --o-rarefied-table ../data/ecam-table-mothers-e2000.qza \\\n",
    "\n",
    "qiime diversity beta \\\n",
    "  --i-table ../data/ecam-table-mothers-e2000.qza \\\n",
    "  --p-metric 'jaccard' \\\n",
    "  --o-distance-matrix ../data/jaccard-distance-mothers.qza"
   ]
  },
  {
   "cell_type": "code",
   "execution_count": 20,
   "metadata": {},
   "outputs": [
    {
     "name": "stdout",
     "output_type": "stream",
     "text": [
      "Saved SampleData[FirstDifferences] to: ../results/mothers-distances-shared-genera.qza\n"
     ]
    }
   ],
   "source": [
    "%%bash\n",
    "qiime longitudinal first-distances \\\n",
    "  --i-distance-matrix ../data/jaccard-distance-mothers.qza \\\n",
    "  --m-metadata-file ../data/ecam-mothers-metadata.tsv \\\n",
    "  --p-state-column month \\\n",
    "  --o-first-distances ../results/mothers-distances-shared-genera.qza \\\n",
    "  --p-individual-id-column studyid \\\n",
    "  --p-replicate-handling random \\\n",
    "  --p-baseline '-1'"
   ]
  },
  {
   "cell_type": "code",
   "execution_count": 21,
   "metadata": {},
   "outputs": [
    {
     "name": "stdout",
     "output_type": "stream",
     "text": [
      "Saved Visualization to: ../results/mothers-distances-shared-genera-LME.qzv\n",
      "Saved Visualization to: ../results/mothers-distances-shared-genera-volatility.qzv\n"
     ]
    }
   ],
   "source": [
    "%%bash\n",
    "# LME\n",
    "qiime longitudinal linear-mixed-effects \\\n",
    "  --m-metadata-file ../results/mothers-distances-shared-genera.qza \\\n",
    "  --m-metadata-file ../data/ecam-mothers-metadata.tsv \\\n",
    "  --p-metric Distance \\\n",
    "  --p-state-column month \\\n",
    "  --p-individual-id-column studyid \\\n",
    "  --o-visualization ../results/mothers-distances-shared-genera-LME.qzv \\\n",
    "  --p-group-columns delivery,diet,sex \\\n",
    "  --p-random-effects month\n",
    "\n",
    "# volatility\n",
    "qiime longitudinal volatility \\\n",
    "  --m-metadata-file ../data/ecam-mothers-metadata.tsv \\\n",
    "  --m-metadata-file ../results/mothers-distances-shared-genera.qza \\\n",
    "  --p-default-metric Distance \\\n",
    "  --p-default-group-column delivery \\\n",
    "  --p-state-column month \\\n",
    "  --p-individual-id-column studyid \\\n",
    "  --o-visualization ../results/mothers-distances-shared-genera-volatility.qzv "
   ]
  },
  {
   "cell_type": "markdown",
   "metadata": {},
   "source": [
    "test LME on segmented time frames"
   ]
  },
  {
   "cell_type": "code",
   "execution_count": 43,
   "metadata": {},
   "outputs": [],
   "source": [
    "mothers_md = qiime2.Metadata.load(os.path.join(data_dir, 'ecam-mothers-metadata.tsv'))"
   ]
  },
  {
   "cell_type": "code",
   "execution_count": 50,
   "metadata": {},
   "outputs": [],
   "source": [
    "# load table\n",
    "dm_mothers = qiime2.Artifact.load(os.path.join(data_dir, 'jaccard-distance-mothers.qza'))\n",
    "# split into \"windows\" to examine piecewise trajectories\n",
    "# convert to relative abundances\n",
    "dm012, = diversity.actions.filter_distance_matrix(distance_matrix=dm_mothers, metadata=mothers_md, where=\"month<=12\")\n"
   ]
  },
  {
   "cell_type": "code",
   "execution_count": null,
   "metadata": {},
   "outputs": [],
   "source": [
    "for dm_sub, time in [(dm012, 't012')]:\n",
    "    # run LME\n",
    "    fd, = longitudinal.actions.first_distances(\n",
    "        distance_matrix=dm_sub, metadata=mothers_md, state_column='month',\n",
    "        individual_id_column='studyid', replicate_handling='random', baseline=-1)\n",
    "    viz, = longitudinal.actions.linear_mixed_effects(\n",
    "        metadata=fd.view(qiime2.Metadata).merge(mothers_md), metric='Distance', state_column='month',\n",
    "        individual_id_column='studyid', group_columns='delivery,diet,sex', random_effects='month')\n",
    "    # save qzv\n",
    "    viz.save(os.path.join(results_dir, 'mothers-distances-shared-genera-LME-' + time + '.qzv'))"
   ]
  },
  {
   "cell_type": "markdown",
   "metadata": {},
   "source": [
    "# Alpha diversity tests"
   ]
  },
  {
   "cell_type": "code",
   "execution_count": 67,
   "metadata": {},
   "outputs": [
    {
     "name": "stdout",
     "output_type": "stream",
     "text": [
      "Saved Visualization to: ../results/shannon-linear-mixed-effects.qzv\n",
      "Saved Visualization to: ../results/volatility.qzv\n"
     ]
    }
   ],
   "source": [
    "%%bash\n",
    "qiime longitudinal linear-mixed-effects \\\n",
    "  --m-metadata-file ../data/ecam-sample-metadata.tsv \\\n",
    "  --m-metadata-file ../data/shannon.qza \\\n",
    "  --p-metric shannon \\\n",
    "  --p-group-columns delivery,diet,sex \\\n",
    "  --p-state-column month \\\n",
    "  --p-individual-id-column studyid \\\n",
    "  --o-visualization ../results/shannon-linear-mixed-effects.qzv \\\n",
    "  --p-random-effects month\n",
    "\n",
    "qiime longitudinal volatility \\\n",
    "  --m-metadata-file ../data/ecam-sample-metadata.tsv \\\n",
    "  --m-metadata-file ../data/shannon.qza \\\n",
    "  --p-default-metric shannon \\\n",
    "  --p-default-group-column delivery \\\n",
    "  --p-state-column month \\\n",
    "  --p-individual-id-column studyid \\\n",
    "  --o-visualization ../results/volatility.qzv \\\n"
   ]
  },
  {
   "cell_type": "markdown",
   "metadata": {},
   "source": [
    "## First differences"
   ]
  },
  {
   "cell_type": "code",
   "execution_count": null,
   "metadata": {},
   "outputs": [],
   "source": [
    "%%bash\n",
    "qiime longitudinal first-differences \\\n",
    "  --m-metadata-file ../data/ecam-sample-metadata.tsv \\\n",
    "  --m-metadata-file ../data/shannon.qza \\\n",
    "  --p-state-column month \\\n",
    "  --p-metric shannon \\\n",
    "  --o-first-differences ../results/shannon-first-differences.qza \\\n",
    "  --p-individual-id-column studyid \\\n",
    "  --p-replicate-handling random\n",
    "\n",
    "# volatility\n",
    "qiime longitudinal volatility \\\n",
    "  --m-metadata-file ../data/ecam-sample-metadata.tsv \\\n",
    "  --m-metadata-file ../results/examples/shannon-first-differences.qza \\\n",
    "  --p-default-metric Difference \\\n",
    "  --p-default-group-column delivery \\\n",
    "  --p-state-column month \\\n",
    "  --p-individual-id-column studyid \\\n",
    "  --o-visualization ../results/shannon-first-differences-volatility.qzv \\\n"
   ]
  }
 ],
 "metadata": {
  "kernelspec": {
   "display_name": "Python 3",
   "language": "python",
   "name": "python3"
  },
  "language_info": {
   "codemirror_mode": {
    "name": "ipython",
    "version": 3
   },
   "file_extension": ".py",
   "mimetype": "text/x-python",
   "name": "python",
   "nbconvert_exporter": "python",
   "pygments_lexer": "ipython3",
   "version": "3.5.5"
  }
 },
 "nbformat": 4,
 "nbformat_minor": 2
}
