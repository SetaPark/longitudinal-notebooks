{
 "cells": [
  {
   "cell_type": "markdown",
   "metadata": {},
   "source": [
    "# Longitudinal Examples\n",
    "This notebooks contains example commands for actions available in the q2-longitudinal plugin.\n",
    "\n",
    "For more details, see the tutorials for this plugin at https://docs.qiime2.org/.\n",
    "\n",
    "These commands were used to generate all results shown in Bokulich et al. (in press).\n",
    "\n",
    "Commands run with version [qiime2-2017.11](https://docs.qiime2.org/2017.11/).\n",
    "\n",
    "**NOTE:** Command-line examples are given for all methods, as this is the interface most commonly used by end-users. If you wish to run a command locally outside of this notebook, `cd` to the data directory and copy the commands within each cell (except for the `%%bash` line) and paste into the terminal to run."
   ]
  },
  {
   "cell_type": "markdown",
   "metadata": {},
   "source": [
    "## Pairwise differences"
   ]
  },
  {
   "cell_type": "code",
   "execution_count": 16,
   "metadata": {},
   "outputs": [
    {
     "name": "stdout",
     "output_type": "stream",
     "text": [
      "Saved Visualization to: ../results/pairwise-differences.qzv\n"
     ]
    }
   ],
   "source": [
    "%%bash\n",
    "qiime longitudinal pairwise-differences \\\n",
    "  --m-metadata-file ../data/ecam-sample-metadata.tsv \\\n",
    "  --m-metadata-file ../data/shannon.qza \\\n",
    "  --p-metric shannon \\\n",
    "  --p-group-column delivery \\\n",
    "  --p-state-column month \\\n",
    "  --p-state-1 0 \\\n",
    "  --p-state-2 12 \\\n",
    "  --p-individual-id-column studyid \\\n",
    "  --p-replicate-handling random \\\n",
    "  --o-visualization ../results/pairwise-differences.qzv\n"
   ]
  },
  {
   "cell_type": "markdown",
   "metadata": {},
   "source": [
    "## Pairwise distances"
   ]
  },
  {
   "cell_type": "code",
   "execution_count": 36,
   "metadata": {},
   "outputs": [
    {
     "name": "stdout",
     "output_type": "stream",
     "text": [
      "Saved Visualization to: ../results/pairwise-distances.qzv\n"
     ]
    }
   ],
   "source": [
    "%%bash\n",
    "qiime longitudinal pairwise-distances \\\n",
    "  --i-distance-matrix ../data/unweighted_unifrac_distance_matrix.qza \\\n",
    "  --m-metadata-file ../data/ecam-sample-metadata.tsv \\\n",
    "  --p-group-column delivery \\\n",
    "  --p-state-column month \\\n",
    "  --p-state-1 0 \\\n",
    "  --p-state-2 12 \\\n",
    "  --p-individual-id-column studyid \\\n",
    "  --p-replicate-handling random \\\n",
    "  --o-visualization ../results/pairwise-distances.qzv\n"
   ]
  },
  {
   "cell_type": "markdown",
   "metadata": {},
   "source": [
    "## Linear Mixed Effects"
   ]
  },
  {
   "cell_type": "code",
   "execution_count": 111,
   "metadata": {},
   "outputs": [
    {
     "name": "stdout",
     "output_type": "stream",
     "text": [
      "Saved Visualization to: ../results/shannon-linear-mixed-effects.qzv\n"
     ]
    }
   ],
   "source": [
    "%%bash\n",
    "qiime longitudinal linear-mixed-effects \\\n",
    "  --m-metadata-file ../data/ecam-sample-metadata.tsv \\\n",
    "  --m-metadata-file ../data/shannon.qza \\\n",
    "  --p-metric shannon \\\n",
    "  --p-group-categories delivery \\\n",
    "  --p-state-column month \\\n",
    "  --p-individual-id-column studyid \\\n",
    "  --o-visualization ../results/shannon-linear-mixed-effects.qzv \\\n",
    "  --p-random-effects month\n"
   ]
  },
  {
   "cell_type": "markdown",
   "metadata": {},
   "source": [
    "## Volatility charts"
   ]
  },
  {
   "cell_type": "code",
   "execution_count": 9,
   "metadata": {},
   "outputs": [
    {
     "name": "stdout",
     "output_type": "stream",
     "text": [
      "Saved Visualization to: ../results/volatility.qzv\n"
     ]
    }
   ],
   "source": [
    "%%bash\n",
    "# shannon volatility\n",
    "qiime longitudinal volatility \\\n",
    "  --m-metadata-file ../data/ecam-sample-metadata.tsv \\\n",
    "  --m-metadata-file ../data/shannon.qza \\\n",
    "  --p-metric shannon \\\n",
    "  --p-group-column delivery \\\n",
    "  --p-state-column month \\\n",
    "  --p-individual-id-column studyid \\\n",
    "  --o-visualization ../results/volatility.qzv \\\n",
    "  --p-spaghetti yes\n"
   ]
  },
  {
   "cell_type": "markdown",
   "metadata": {},
   "source": [
    "## First differences"
   ]
  },
  {
   "cell_type": "code",
   "execution_count": 10,
   "metadata": {},
   "outputs": [
    {
     "name": "stdout",
     "output_type": "stream",
     "text": [
      "Saved Visualization to: ../results/shannon-first-differences-volatility.qzv\n"
     ]
    }
   ],
   "source": [
    "%%bash\n",
    "qiime longitudinal first-differences \\\n",
    "  --m-metadata-file ../data/ecam-sample-metadata.tsv \\\n",
    "  --m-metadata-file ../data/shannon.qza \\\n",
    "  --p-state-column month \\\n",
    "  --p-metric shannon \\\n",
    "  --o-first-differences ../results/shannon-first-differences.qza \\\n",
    "  --p-individual-id-column studyid \\\n",
    "  --p-replicate-handling random\n",
    "\n",
    "# volatility\n",
    "qiime longitudinal volatility \\\n",
    "  --m-metadata-file ../data/ecam-sample-metadata.tsv \\\n",
    "  --m-metadata-file ../results/shannon-first-differences.qza \\\n",
    "  --p-metric Difference \\\n",
    "  --p-group-column delivery \\\n",
    "  --p-state-column month \\\n",
    "  --p-individual-id-column studyid \\\n",
    "  --o-visualization ../results/shannon-first-differences-volatility.qzv \\\n",
    "  --p-spaghetti yes\n"
   ]
  },
  {
   "cell_type": "markdown",
   "metadata": {},
   "source": [
    "## First distances"
   ]
  },
  {
   "cell_type": "code",
   "execution_count": 113,
   "metadata": {},
   "outputs": [
    {
     "name": "stdout",
     "output_type": "stream",
     "text": [
      "Saved Visualization to: ../results/first-distances-LME.qzv\n"
     ]
    }
   ],
   "source": [
    "%%bash\n",
    "qiime longitudinal first-distances \\\n",
    "  --i-distance-matrix ../data/unweighted_unifrac_distance_matrix.qza \\\n",
    "  --m-metadata-file ../data/ecam-sample-metadata.tsv \\\n",
    "  --p-state-column month \\\n",
    "  --o-first-distances ../results/first-distances.qza \\\n",
    "  --p-individual-id-column studyid \\\n",
    "  --p-replicate-handling random\n",
    "\n",
    "# LME\n",
    "qiime longitudinal linear-mixed-effects \\\n",
    "  --m-metadata-file ../results/first-distances.qza \\\n",
    "  --m-metadata-file ../data/ecam-sample-metadata.tsv \\\n",
    "  --p-metric Distance \\\n",
    "  --p-state-column month \\\n",
    "  --p-individual-id-column studyid \\\n",
    "  --o-visualization ../results/first-distances-LME.qzv \\\n",
    "  --p-group-categories delivery\n",
    "\n",
    "# volatility\n",
    "qiime longitudinal volatility \\\n",
    "  --m-metadata-file ../data/ecam-sample-metadata.tsv \\\n",
    "  --m-metadata-file ../results/first-distances.qza \\\n",
    "  --p-metric Distance \\\n",
    "  --p-group-column delivery \\\n",
    "  --p-state-column month \\\n",
    "  --p-individual-id-column studyid \\\n",
    "  --o-visualization ../results/first-distances-volatility.qzv \\\n",
    "  --p-spaghetti yes\n"
   ]
  },
  {
   "cell_type": "markdown",
   "metadata": {},
   "source": [
    "## Difference from baseline"
   ]
  },
  {
   "cell_type": "code",
   "execution_count": 12,
   "metadata": {},
   "outputs": [
    {
     "name": "stdout",
     "output_type": "stream",
     "text": [
      "Saved Visualization to: ../results/shannon-baseline-differences-volatility.qzv\n"
     ]
    }
   ],
   "source": [
    "%%bash\n",
    "qiime longitudinal first-differences \\\n",
    "  --m-metadata-file ../data/ecam-sample-metadata.tsv \\\n",
    "  --m-metadata-file ../data/shannon.qza \\\n",
    "  --p-state-column month \\\n",
    "  --p-metric shannon \\\n",
    "  --o-first-differences ../results/shannon-baseline-differences.qza \\\n",
    "  --p-individual-id-column studyid \\\n",
    "  --p-replicate-handling random \\\n",
    "  --p-baseline 0\n",
    "\n",
    "# LME\n",
    "qiime longitudinal linear-mixed-effects \\\n",
    "  --m-metadata-file ../results/shannon-baseline-differences.qza \\\n",
    "  --m-metadata-file ../data/ecam-sample-metadata.tsv \\\n",
    "  --p-metric Difference \\\n",
    "  --p-state-column month \\\n",
    "  --p-individual-id-column studyid \\\n",
    "  --o-visualization ../results/shannon-baseline-differences-LME.qzv \\\n",
    "  --p-group-categories delivery,diet,sex \\\n",
    "  --p-random-effects month\n",
    "\n",
    "# volatility\n",
    "qiime longitudinal volatility \\\n",
    "  --m-metadata-file ../data/ecam-sample-metadata.tsv \\\n",
    "  --m-metadata-file ../results/shannon-baseline-differences.qza \\\n",
    "  --p-metric Difference \\\n",
    "  --p-group-column delivery \\\n",
    "  --p-state-column month \\\n",
    "  --p-individual-id-column studyid \\\n",
    "  --o-visualization ../results/shannon-baseline-differences-volatility.qzv \\\n",
    "  --p-spaghetti yes\n"
   ]
  },
  {
   "cell_type": "markdown",
   "metadata": {},
   "source": [
    "## Distance from baseline"
   ]
  },
  {
   "cell_type": "code",
   "execution_count": 13,
   "metadata": {},
   "outputs": [
    {
     "name": "stdout",
     "output_type": "stream",
     "text": [
      "Saved Visualization to: ../results/baseline-distances-volatility.qzv\n"
     ]
    }
   ],
   "source": [
    "%%bash\n",
    "qiime longitudinal first-distances \\\n",
    "  --i-distance-matrix ../data/unweighted_unifrac_distance_matrix.qza \\\n",
    "  --m-metadata-file ../data/ecam-sample-metadata.tsv \\\n",
    "  --p-state-column month \\\n",
    "  --o-first-distances ../results/baseline-distances.qza \\\n",
    "  --p-individual-id-column studyid \\\n",
    "  --p-replicate-handling random \\\n",
    "  --p-baseline 0\n",
    "\n",
    "# LME\n",
    "qiime longitudinal linear-mixed-effects \\\n",
    "  --m-metadata-file ../results/baseline-distances.qza \\\n",
    "  --m-metadata-file ../data/ecam-sample-metadata.tsv \\\n",
    "  --p-metric Distance \\\n",
    "  --p-state-column month \\\n",
    "  --p-individual-id-column studyid \\\n",
    "  --o-visualization ../results/baseline-distances-LME.qzv \\\n",
    "  --p-group-categories delivery,diet,sex \\\n",
    "  --p-random-effects month\n",
    "\n",
    "# volatility\n",
    "qiime longitudinal volatility \\\n",
    "  --m-metadata-file ../data/ecam-sample-metadata.tsv \\\n",
    "  --m-metadata-file ../results/baseline-distances.qza \\\n",
    "  --p-metric Distance \\\n",
    "  --p-group-column delivery \\\n",
    "  --p-state-column month \\\n",
    "  --p-individual-id-column studyid \\\n",
    "  --o-visualization ../results/baseline-distances-volatility.qzv \\\n",
    "  --p-spaghetti yes\n"
   ]
  },
  {
   "cell_type": "markdown",
   "metadata": {},
   "source": [
    "## First differences shared species"
   ]
  },
  {
   "cell_type": "code",
   "execution_count": 31,
   "metadata": {},
   "outputs": [
    {
     "name": "stdout",
     "output_type": "stream",
     "text": [
      "Saved DistanceMatrix to: ../data/jaccard-distance-genera.qza\n"
     ]
    }
   ],
   "source": [
    "%%bash\n",
    "qiime diversity beta \\\n",
    "   --i-table ../data/ecam-table-genus-mf7000-ms130.qza \\\n",
    "   --p-metric 'jaccard' \\\n",
    "   --o-distance-matrix ../data/jaccard-distance-genera.qza"
   ]
  },
  {
   "cell_type": "code",
   "execution_count": 14,
   "metadata": {},
   "outputs": [
    {
     "name": "stdout",
     "output_type": "stream",
     "text": [
      "Saved Visualization to: ../results/first-distances-shared-genera-volatility.qzv\n"
     ]
    }
   ],
   "source": [
    "%%bash\n",
    "qiime longitudinal first-distances \\\n",
    "  --i-distance-matrix ../data/jaccard-distance-genera.qza \\\n",
    "  --m-metadata-file ../data/ecam-sample-metadata.tsv \\\n",
    "  --p-state-column month \\\n",
    "  --o-first-distances ../results/first-distances-shared-genera.qza \\\n",
    "  --p-individual-id-column studyid \\\n",
    "  --p-replicate-handling random \\\n",
    "\n",
    "# LME\n",
    "qiime longitudinal linear-mixed-effects \\\n",
    "  --m-metadata-file ../results/first-distances-shared-genera.qza \\\n",
    "  --m-metadata-file ../data/ecam-sample-metadata.tsv \\\n",
    "  --p-metric Distance \\\n",
    "  --p-state-column month \\\n",
    "  --p-individual-id-column studyid \\\n",
    "  --o-visualization ../results/first-distances-shared-genera-LME.qzv \\\n",
    "  --p-group-categories delivery,diet,sex \\\n",
    "  --p-random-effects month\n",
    "\n",
    "# volatility\n",
    "qiime longitudinal volatility \\\n",
    "  --m-metadata-file ../data/ecam-sample-metadata.tsv \\\n",
    "  --m-metadata-file ../results/first-distances-shared-genera.qza \\\n",
    "  --p-metric Distance \\\n",
    "  --p-group-column delivery \\\n",
    "  --p-state-column month \\\n",
    "  --p-individual-id-column studyid \\\n",
    "  --o-visualization ../results/first-distances-shared-genera-volatility.qzv \\\n",
    "  --p-spaghetti yes\n"
   ]
  },
  {
   "cell_type": "markdown",
   "metadata": {},
   "source": [
    "## Shared species with baseline"
   ]
  },
  {
   "cell_type": "code",
   "execution_count": 15,
   "metadata": {},
   "outputs": [
    {
     "name": "stdout",
     "output_type": "stream",
     "text": [
      "Saved Visualization to: ../results/baseline-distances-shared-genera-volatility.qzv\n"
     ]
    }
   ],
   "source": [
    "%%bash\n",
    "qiime longitudinal first-distances \\\n",
    "  --i-distance-matrix ../data/jaccard-distance-genera.qza \\\n",
    "  --m-metadata-file ../data/ecam-sample-metadata.tsv \\\n",
    "  --p-state-column month \\\n",
    "  --o-first-distances ../results/baseline-distances-shared-genera.qza \\\n",
    "  --p-individual-id-column studyid \\\n",
    "  --p-replicate-handling random \\\n",
    "  --p-baseline 0\n",
    "\n",
    "# LME\n",
    "qiime longitudinal linear-mixed-effects \\\n",
    "  --m-metadata-file ../results/baseline-distances-shared-genera.qza \\\n",
    "  --m-metadata-file ../data/ecam-sample-metadata.tsv \\\n",
    "  --p-metric Distance \\\n",
    "  --p-state-column month \\\n",
    "  --p-individual-id-column studyid \\\n",
    "  --o-visualization ../results/baseline-distances-shared-genera-LME.qzv \\\n",
    "  --p-group-categories delivery,diet,sex \\\n",
    "  --p-random-effects month\n",
    "\n",
    "# volatility\n",
    "qiime longitudinal volatility \\\n",
    "  --m-metadata-file ../data/ecam-sample-metadata.tsv \\\n",
    "  --m-metadata-file ../results/baseline-distances-shared-genera.qza \\\n",
    "  --p-metric Distance \\\n",
    "  --p-group-column delivery \\\n",
    "  --p-state-column month \\\n",
    "  --p-individual-id-column studyid \\\n",
    "  --o-visualization ../results/baseline-distances-shared-genera-volatility.qzv \\\n",
    "  --p-spaghetti yes\n"
   ]
  },
  {
   "cell_type": "markdown",
   "metadata": {},
   "source": [
    "## Shared features with mother"
   ]
  },
  {
   "cell_type": "code",
   "execution_count": 114,
   "metadata": {},
   "outputs": [
    {
     "name": "stdout",
     "output_type": "stream",
     "text": [
      "Saved FeatureTable[Frequency] to: ../data/ecam-table-mothers.qza\n",
      "Saved DistanceMatrix to: ../data/jaccard-distance-mothers.qza\n"
     ]
    }
   ],
   "source": [
    "%%bash\n",
    "qiime feature-table filter-samples \\\n",
    "  --i-table ../data/table.qza \\\n",
    "  --o-filtered-table ../data/ecam-table-mothers.qza \\\n",
    "  --m-metadata-file ../data/ecam-mothers-metadata.tsv\n",
    "\n",
    "qiime diversity beta \\\n",
    "  --i-table ../data/ecam-table-mothers.qza \\\n",
    "  --p-metric 'jaccard' \\\n",
    "  --o-distance-matrix ../data/jaccard-distance-mothers.qza"
   ]
  },
  {
   "cell_type": "code",
   "execution_count": 117,
   "metadata": {},
   "outputs": [
    {
     "name": "stdout",
     "output_type": "stream",
     "text": [
      "Saved SampleData[FirstDifferences] to: ../results/mothers-distances-shared-genera.qza\n"
     ]
    }
   ],
   "source": [
    "%%bash\n",
    "qiime longitudinal first-distances \\\n",
    "  --i-distance-matrix ../data/jaccard-distance-mothers.qza \\\n",
    "  --m-metadata-file ../data/ecam-mothers-metadata.tsv \\\n",
    "  --p-state-column month \\\n",
    "  --o-first-distances ../results/mothers-distances-shared-genera.qza \\\n",
    "  --p-individual-id-column studyid \\\n",
    "  --p-replicate-handling random \\\n",
    "  --p-baseline '-1'"
   ]
  },
  {
   "cell_type": "code",
   "execution_count": 118,
   "metadata": {},
   "outputs": [
    {
     "name": "stdout",
     "output_type": "stream",
     "text": [
      "Saved Visualization to: ../results/mothers-distances-shared-genera-LME.qzv\n",
      "Saved Visualization to: ../results/mothers-distances-shared-genera-volatility.qzv\n"
     ]
    }
   ],
   "source": [
    "%%bash\n",
    "# LME\n",
    "qiime longitudinal linear-mixed-effects \\\n",
    "  --m-metadata-file ../results/mothers-distances-shared-genera.qza \\\n",
    "  --m-metadata-file ../data/ecam-mothers-metadata.tsv \\\n",
    "  --p-metric Distance \\\n",
    "  --p-state-column month \\\n",
    "  --p-individual-id-column studyid \\\n",
    "  --o-visualization ../results/mothers-distances-shared-genera-LME.qzv \\\n",
    "  --p-group-categories delivery\n",
    "\n",
    "# volatility\n",
    "qiime longitudinal volatility \\\n",
    "  --m-metadata-file ../data/ecam-mothers-metadata.tsv \\\n",
    "  --m-metadata-file ../results/mothers-distances-shared-genera.qza \\\n",
    "  --p-metric Distance \\\n",
    "  --p-group-column delivery \\\n",
    "  --p-state-column month \\\n",
    "  --p-individual-id-column studyid \\\n",
    "  --o-visualization ../results/mothers-distances-shared-genera-volatility.qzv \\\n",
    "  --p-spaghetti yes"
   ]
  },
  {
   "cell_type": "markdown",
   "metadata": {},
   "source": [
    "## Feature data as inputs"
   ]
  },
  {
   "cell_type": "code",
   "execution_count": null,
   "metadata": {},
   "outputs": [],
   "source": [
    "%%bash\n",
    "# relative abundances\n",
    "# volatility\n",
    "qiime longitudinal volatility \\\n",
    "  --m-metadata-file ../data/ecam-sample-metadata.tsv \\\n",
    "  --i-table ../data/ecam-table-taxa.qza \\\n",
    "  --p-metric 'k__Bacteria;p__Bacteroidetes;c__Bacteroidia;o__Bacteroidales;f__Bacteroidaceae;g__Bacteroides' \\\n",
    "  --p-group-column delivery \\\n",
    "  --p-state-column month \\\n",
    "  --p-individual-id-column studyid \\\n",
    "  --o-visualization ../results/bacteroides-volatility.qzv \\\n",
    "  --p-spaghetti yes \\\n",
    "  --p-no-plot-control-limits"
   ]
  },
  {
   "cell_type": "code",
   "execution_count": 110,
   "metadata": {},
   "outputs": [
    {
     "name": "stdout",
     "output_type": "stream",
     "text": [
      "Saved Visualization to: ../results/bacteroides-LME.qzv\n"
     ]
    }
   ],
   "source": [
    "%%bash\n",
    "# LME\n",
    "qiime longitudinal linear-mixed-effects \\\n",
    "  --i-table ../data/ecam-table-taxa.qza \\\n",
    "  --m-metadata-file ../data/ecam-sample-metadata.tsv \\\n",
    "  --p-metric 'k__Bacteria;p__Bacteroidetes;c__Bacteroidia;o__Bacteroidales;f__Bacteroidaceae;g__Bacteroides' \\\n",
    "  --p-state-column month \\\n",
    "  --p-individual-id-column studyid \\\n",
    "  --o-visualization ../results/bacteroides-LME.qzv \\\n",
    "  --p-group-categories delivery \\\n",
    "  --p-random-effects month"
   ]
  },
  {
   "cell_type": "markdown",
   "metadata": {},
   "source": [
    "## NMIT"
   ]
  },
  {
   "cell_type": "code",
   "execution_count": 7,
   "metadata": {},
   "outputs": [
    {
     "name": "stdout",
     "output_type": "stream",
     "text": [
      "Saved DistanceMatrix to: ../results/nmit-dm.qza\n",
      "Saved Visualization to: ../results/nmit.qzv\n",
      "Saved PCoAResults to: ../results/nmit-pc.qza\n",
      "Saved Visualization to: ../results/nmit-emperor.qzv\n"
     ]
    }
   ],
   "source": [
    "%%bash\n",
    "qiime longitudinal nmit \\\n",
    "  --i-table ../data/ecam-table-taxa.qza \\\n",
    "  --m-metadata-file ../data/ecam-sample-metadata.tsv \\\n",
    "  --p-individual-id-column studyid \\\n",
    "  --p-corr-method pearson \\\n",
    "  --o-distance-matrix ../results/nmit-dm.qza\n",
    "\n",
    "qiime diversity beta-group-significance \\\n",
    "  --i-distance-matrix ../results/nmit-dm.qza \\\n",
    "  --m-metadata-file ../data/ecam-sample-metadata.tsv \\\n",
    "  --m-metadata-category delivery \\\n",
    "  --o-visualization ../results/nmit.qzv\n",
    "\n",
    "qiime diversity pcoa \\\n",
    "  --i-distance-matrix ../results/nmit-dm.qza \\\n",
    "  --o-pcoa ../results/nmit-pc.qza\n",
    "\n",
    "qiime emperor plot \\\n",
    "  --i-pcoa ../results/nmit-pc.qza \\\n",
    "  --m-metadata-file ../data/ecam-sample-metadata.tsv \\\n",
    "  --o-visualization ../results/nmit-emperor.qzv\n"
   ]
  },
  {
   "cell_type": "code",
   "execution_count": null,
   "metadata": {},
   "outputs": [],
   "source": []
  },
  {
   "cell_type": "code",
   "execution_count": null,
   "metadata": {},
   "outputs": [],
   "source": []
  }
 ],
 "metadata": {
  "kernelspec": {
   "display_name": "Python 3",
   "language": "python",
   "name": "python3"
  },
  "language_info": {
   "codemirror_mode": {
    "name": "ipython",
    "version": 3
   },
   "file_extension": ".py",
   "mimetype": "text/x-python",
   "name": "python",
   "nbconvert_exporter": "python",
   "pygments_lexer": "ipython3",
   "version": "3.5.4"
  }
 },
 "nbformat": 4,
 "nbformat_minor": 2
}
